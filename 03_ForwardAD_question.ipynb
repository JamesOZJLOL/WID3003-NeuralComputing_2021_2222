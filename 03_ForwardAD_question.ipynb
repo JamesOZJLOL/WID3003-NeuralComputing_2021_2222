{
  "nbformat": 4,
  "nbformat_minor": 0,
  "metadata": {
    "colab": {
      "name": "03_ForwardAD_question.ipynb",
      "provenance": [],
      "authorship_tag": "ABX9TyN0oprsD0o87Q5UD05C4GTp"
    },
    "kernelspec": {
      "name": "python3",
      "display_name": "Python 3"
    },
    "language_info": {
      "name": "python"
    }
  },
  "cells": [
    {
      "cell_type": "markdown",
      "source": [
        "Demo"
      ],
      "metadata": {
        "id": "gci0J-nmsMW4"
      }
    },
    {
      "cell_type": "code",
      "source": [
        "import math \n",
        "\n",
        "x = 0.5\n",
        "y = 4.2\n",
        "b =  math.sin(x)\n",
        "a = x*y\n",
        "z = a + b\n",
        "\n",
        "\n",
        "dx = 1\n",
        "dy = 0\n",
        "da = x*dy + y*dx #product rule\n",
        "db = math.cos(x)*dx #chain rule\n",
        "dz = da + db #sum rule\n",
        "\n",
        "print('z = ',z)\n",
        "print('dz/dy = ',dz)\n",
        "\n",
        "\n"
      ],
      "metadata": {
        "colab": {
          "base_uri": "https://localhost:8080/"
        },
        "id": "uHAfoB0jsLmi",
        "outputId": "1ae97c18-d7c4-4bfc-b651-2ce484abecc2"
      },
      "execution_count": 2,
      "outputs": [
        {
          "output_type": "stream",
          "name": "stdout",
          "text": [
            "z =  2.579425538604203\n",
            "dz/dx =  5.077582561890373\n"
          ]
        }
      ]
    },
    {
      "cell_type": "markdown",
      "source": [
        "# Forward Mode Automatic Differentiation (AD)\n",
        "\n",
        "Forward mode AD can simply be implemented by defining a class to represent [dual numbers](https://en.wikipedia.org/wiki/Dual_number) which hold the value and its derivative. The following code defines a dual number and implements multiplication. \n",
        "\n",
        "Tasks:\n",
        "\n",
        "1. Addition (`__add__`) is incomplete - Please complete it \n",
        "2. Implement division (`__truediv__`), subtraction (`__sub__`) and power (`__pow__`) as well"
      ],
      "metadata": {
        "id": "PuyazVrdhVtM"
      }
    },
    {
      "cell_type": "code",
      "execution_count": null,
      "metadata": {
        "id": "_ACPZb-NhER1"
      },
      "outputs": [],
      "source": [
        "import math \n",
        "\n",
        "class DualNumber:\n",
        "  def _init__(self,value,dvalue): #x (self value, derivative of self value)\n",
        "    self.value = value\n",
        "    self.dvalue = dvalue #derivative\n",
        "\n",
        "  def __str__(self):\n",
        "    return str(self.value) + \" + \" + str(self.dvalue) + \"ε\"\n",
        "\n",
        "\n",
        "    \n"
      ]
    },
    {
      "cell_type": "markdown",
      "source": [
        "## Test your dual number functions "
      ],
      "metadata": {
        "id": "5BxHyC-Ghi06"
      }
    },
    {
      "cell_type": "code",
      "source": [
        ""
      ],
      "metadata": {
        "id": "p3GjfEzHhna5"
      },
      "execution_count": null,
      "outputs": []
    }
  ]
}